{
  "nbformat": 4,
  "nbformat_minor": 0,
  "metadata": {
    "colab": {
      "provenance": [],
      "mount_file_id": "1GSR1lpe6KU_kvUDHU9VDNRf07tdA0I3C",
      "authorship_tag": "ABX9TyP5PzHlTpKusHO17/KcdUiw",
      "include_colab_link": true
    },
    "kernelspec": {
      "name": "python3",
      "display_name": "Python 3"
    },
    "language_info": {
      "name": "python"
    }
  },
  "cells": [
    {
      "cell_type": "markdown",
      "metadata": {
        "id": "view-in-github",
        "colab_type": "text"
      },
      "source": [
        "<a href=\"https://colab.research.google.com/github/LoreenaPeragine/BookRecProject/blob/main/BookReccomendation.ipynb\" target=\"_parent\"><img src=\"https://colab.research.google.com/assets/colab-badge.svg\" alt=\"Open In Colab\"/></a>"
      ]
    },
    {
      "cell_type": "markdown",
      "source": [
        "This is a book reccomendation program for a master's project. "
      ],
      "metadata": {
        "id": "CmLx-_tq9b1j"
      }
    },
    {
      "cell_type": "markdown",
      "source": [
        "Imports "
      ],
      "metadata": {
        "id": "PyHRlyre0iHH"
      }
    },
    {
      "cell_type": "code",
      "execution_count": 22,
      "metadata": {
        "id": "QFyP3-UjzvFK",
        "colab": {
          "base_uri": "https://localhost:8080/"
        },
        "outputId": "2817b8ef-6f71-487e-9cab-9bae07a54a54"
      },
      "outputs": [
        {
          "output_type": "stream",
          "name": "stdout",
          "text": [
            "Drive already mounted at /content/gdrive; to attempt to forcibly remount, call drive.mount(\"/content/gdrive\", force_remount=True).\n"
          ]
        }
      ],
      "source": [
        "import numpy as np\n",
        "import pandas as pd\n",
        "import seaborn as sns\n",
        "import matplotlib.pyplot as plt\n",
        "import tensorflow as tf\n",
        "import keras\n",
        "from pathlib import Path\n",
        "from keras.models import Sequential\n",
        "from keras.layers import Dense, Activation, Input\n",
        "from keras import backend as K\n",
        "from keras.utils.vis_utils import plot_model\n",
        "import tensorflow.keras.constraints\n",
        "from matplotlib import pyplot as plt \n",
        "import seaborn as sns\n",
        "\n",
        "from google.colab import drive \n",
        "drive.mount('/content/gdrive')"
      ]
    },
    {
      "cell_type": "markdown",
      "source": [
        "A look at the datasets, which originated from [Kaggle](https://www.kaggle.com/datasets/arashnic/book-recommendation-dataset?resource=download)"
      ],
      "metadata": {
        "id": "LzGzSK4Q0UCY"
      }
    },
    {
      "cell_type": "code",
      "source": [
        "booksData = pd.read_csv('/content/gdrive/MyDrive/BookRecAppData/Books.csv', low_memory=False)\n",
        "print(booksData.head())\n",
        "print(booksData.shape)"
      ],
      "metadata": {
        "colab": {
          "base_uri": "https://localhost:8080/"
        },
        "id": "Zx-x5egw0fy3",
        "outputId": "3220bce6-00df-4fa0-c3a1-73c7fb0a8eb1"
      },
      "execution_count": 29,
      "outputs": [
        {
          "output_type": "stream",
          "name": "stdout",
          "text": [
            "         ISBN                                         Book-Title  \\\n",
            "0  0195153448                                Classical Mythology   \n",
            "1  0002005018                                       Clara Callan   \n",
            "2  0060973129                               Decision in Normandy   \n",
            "3  0374157065  Flu: The Story of the Great Influenza Pandemic...   \n",
            "4  0393045218                             The Mummies of Urumchi   \n",
            "\n",
            "            Book-Author Year-Of-Publication                   Publisher  \\\n",
            "0    Mark P. O. Morford                2002     Oxford University Press   \n",
            "1  Richard Bruce Wright                2001       HarperFlamingo Canada   \n",
            "2          Carlo D'Este                1991             HarperPerennial   \n",
            "3      Gina Bari Kolata                1999        Farrar Straus Giroux   \n",
            "4       E. J. W. Barber                1999  W. W. Norton &amp; Company   \n",
            "\n",
            "                                         Image-URL-S  \\\n",
            "0  http://images.amazon.com/images/P/0195153448.0...   \n",
            "1  http://images.amazon.com/images/P/0002005018.0...   \n",
            "2  http://images.amazon.com/images/P/0060973129.0...   \n",
            "3  http://images.amazon.com/images/P/0374157065.0...   \n",
            "4  http://images.amazon.com/images/P/0393045218.0...   \n",
            "\n",
            "                                         Image-URL-M  \\\n",
            "0  http://images.amazon.com/images/P/0195153448.0...   \n",
            "1  http://images.amazon.com/images/P/0002005018.0...   \n",
            "2  http://images.amazon.com/images/P/0060973129.0...   \n",
            "3  http://images.amazon.com/images/P/0374157065.0...   \n",
            "4  http://images.amazon.com/images/P/0393045218.0...   \n",
            "\n",
            "                                         Image-URL-L  \n",
            "0  http://images.amazon.com/images/P/0195153448.0...  \n",
            "1  http://images.amazon.com/images/P/0002005018.0...  \n",
            "2  http://images.amazon.com/images/P/0060973129.0...  \n",
            "3  http://images.amazon.com/images/P/0374157065.0...  \n",
            "4  http://images.amazon.com/images/P/0393045218.0...  \n",
            "(271360, 8)\n"
          ]
        }
      ]
    },
    {
      "cell_type": "code",
      "source": [
        "usersData = pd.read_csv('/content/gdrive/MyDrive/BookRecAppData/Users.csv', low_memory=False)\n",
        "print(usersData.head())\n",
        "print(usersData.shape)"
      ],
      "metadata": {
        "colab": {
          "base_uri": "https://localhost:8080/"
        },
        "id": "DVWi8evl1osL",
        "outputId": "14e220cb-7435-45fc-c0d8-1cf2017bb7b0"
      },
      "execution_count": 30,
      "outputs": [
        {
          "output_type": "stream",
          "name": "stdout",
          "text": [
            "   User-ID                            Location   Age\n",
            "0        1                  nyc, new york, usa   NaN\n",
            "1        2           stockton, california, usa  18.0\n",
            "2        3     moscow, yukon territory, russia   NaN\n",
            "3        4           porto, v.n.gaia, portugal  17.0\n",
            "4        5  farnborough, hants, united kingdom   NaN\n",
            "(278858, 3)\n"
          ]
        }
      ]
    },
    {
      "cell_type": "code",
      "source": [
        "ratingsData = pd.read_csv('/content/gdrive/MyDrive/BookRecAppData/Ratings.csv', low_memory=False)\n",
        "print(ratingsData.head())\n",
        "print(ratingsData.shape)"
      ],
      "metadata": {
        "colab": {
          "base_uri": "https://localhost:8080/"
        },
        "id": "Dj08xYyk1ZmB",
        "outputId": "8d9926c1-b216-4184-adad-3466ce5e13ca"
      },
      "execution_count": 31,
      "outputs": [
        {
          "output_type": "stream",
          "name": "stdout",
          "text": [
            "   User-ID        ISBN  Book-Rating\n",
            "0   276725  034545104X            0\n",
            "1   276726  0155061224            5\n",
            "2   276727  0446520802            0\n",
            "3   276729  052165615X            3\n",
            "4   276729  0521795028            6\n",
            "(1149780, 3)\n"
          ]
        }
      ]
    },
    {
      "cell_type": "code",
      "source": [],
      "metadata": {
        "id": "Iklr050y80g2"
      },
      "execution_count": null,
      "outputs": []
    }
  ]
}